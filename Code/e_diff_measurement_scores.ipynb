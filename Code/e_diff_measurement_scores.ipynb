{
 "cells": [
  {
   "cell_type": "code",
   "execution_count": 7,
   "id": "2deee74b-3129-42c4-8a17-2ade819f852a",
   "metadata": {
    "tags": []
   },
   "outputs": [],
   "source": [
    "import random\n",
    "import numpy as np"
   ]
  },
  {
   "cell_type": "code",
   "execution_count": 2,
   "id": "725cf3ff-0beb-4355-8885-77d93d3baddb",
   "metadata": {
    "tags": []
   },
   "outputs": [],
   "source": [
    "def average_abs_diff(lst):\n",
    "    total_diff = 0\n",
    "    num_pairs = 0\n",
    "\n",
    "    for i in range(len(lst)):\n",
    "        for j in range(i+1, len(lst)):  # Only considering pairs (i, j) where j>i ensures no repetitions\n",
    "            total_diff += abs(lst[i] - lst[j])\n",
    "            num_pairs += 1\n",
    "\n",
    "    return total_diff / num_pairs if num_pairs > 0 else 0"
   ]
  },
  {
   "cell_type": "code",
   "execution_count": 3,
   "id": "25c35bfd-3eff-4566-891f-2d99e15441f2",
   "metadata": {
    "tags": []
   },
   "outputs": [],
   "source": [
    "# real, measured values\n",
    "LLs = [29.627, 21.516, 23.292, 30.759, 35.253, 36.729,\n",
    "       22.73, 35.571, 27.11, 20.451, 36.262, 21.778]\n",
    "\n",
    "SSs = [0.872, 0.86, 0.855, 0.87, 0.867, 0.846,\n",
    "       0.833, 0.841, 0.835, 0.846, 0.838, 0.836]"
   ]
  },
  {
   "cell_type": "code",
   "execution_count": 4,
   "id": "e1bf1172-2068-4158-8317-1db0a9af47c0",
   "metadata": {
    "tags": []
   },
   "outputs": [
    {
     "name": "stdout",
     "output_type": "stream",
     "text": [
      "7.512969696969698\n",
      "0.016863636363636383\n"
     ]
    }
   ],
   "source": [
    "LLs_average_abs_diff = average_abs_diff(LLs)\n",
    "SSs_average_abs_diff = average_abs_diff(SSs)\n",
    "print(LLs_average_abs_diff)\n",
    "print(SSs_average_abs_diff)"
   ]
  },
  {
   "cell_type": "code",
   "execution_count": 5,
   "id": "8b1795f2-37c0-483f-a9f2-4012486589b1",
   "metadata": {
    "tags": []
   },
   "outputs": [
    {
     "name": "stdout",
     "output_type": "stream",
     "text": [
      "1.8840000000000003\n",
      "0.012166666666666678\n"
     ]
    }
   ],
   "source": [
    "LLs_real_abs_diff = (abs(30.759 - 29.627) + abs(22.73 - 21.516) + abs(20.451 - 23.292) + abs(35.571 - 35.253) + abs(36.262 - 36.729) + abs(21.778 - 27.11))/6\n",
    "SSs_real_abs_diff =(abs(0.872 - 0.87) + abs(0.86 - 0.833) + abs(0.846 - 0.855) + abs(0.841 - 0.867) + abs(0.838 - 0.846) + abs(0.836 - 0.835))/6\n",
    "print(LLs_real_abs_diff)\n",
    "print(SSs_real_abs_diff)"
   ]
  },
  {
   "cell_type": "code",
   "execution_count": 6,
   "id": "4327d027-4d44-42cb-a481-1acb0723d3bb",
   "metadata": {
    "tags": []
   },
   "outputs": [
    {
     "name": "stdout",
     "output_type": "stream",
     "text": [
      "3.987775847648459\n",
      "1.3860523038605232\n"
     ]
    }
   ],
   "source": [
    "print(LLs_average_abs_diff/LLs_real_abs_diff)\n",
    "print(SSs_average_abs_diff/SSs_real_abs_diff)"
   ]
  },
  {
   "cell_type": "markdown",
   "id": "2af6f0c7-d4a8-45de-8142-e502d9ab5572",
   "metadata": {},
   "source": [
    "glove vs ll correlation"
   ]
  },
  {
   "cell_type": "code",
   "execution_count": 18,
   "id": "a9c67c8e-a94a-4f14-8680-c8746ab9af90",
   "metadata": {
    "tags": []
   },
   "outputs": [],
   "source": [
    "lls = [23.164, 29.627, 21.516, 23.292, 30.759, 39.741, 35.253, 36.729, 22.73, 35.571, 25.824, 27.11, 20.451, 36.262, 21.778, 23.952]\n",
    "sss = [0.872, 0.872, 0.86, 0.855, 0.87, 0.884, 0.867, 0.846, 0.833, 0.841, 0.839, 0.835, 0.846, 0.838, 0.836, 0.844]"
   ]
  },
  {
   "cell_type": "code",
   "execution_count": 19,
   "id": "0771a393-cfe2-4848-90f4-de9e1f5998da",
   "metadata": {
    "tags": []
   },
   "outputs": [
    {
     "name": "stdout",
     "output_type": "stream",
     "text": [
      "Intel MKL WARNING: Support of Intel(R) Streaming SIMD Extensions 4.2 (Intel(R) SSE4.2) enabled only processors has been deprecated. Intel oneAPI Math Kernel Library 2025.0 will require Intel(R) Advanced Vector Extensions (Intel(R) AVX) instructions.\n"
     ]
    },
    {
     "data": {
      "text/plain": [
       "0.29713679046346225"
      ]
     },
     "execution_count": 19,
     "metadata": {},
     "output_type": "execute_result"
    }
   ],
   "source": [
    "correlation_matrix = np.corrcoef(lls, sss)\n",
    "correlation_matrix[0, 1]"
   ]
  },
  {
   "cell_type": "code",
   "execution_count": 13,
   "id": "458f01e2-2fec-4e1b-94c8-597eab36ffbf",
   "metadata": {
    "tags": []
   },
   "outputs": [],
   "source": [
    "officells = [21.419, 23.915, 22.967, 21.269, 21.981, 20.753, 21.57, 19.382, 23.69, 21.914, 21.085, 18.384, 22.401, 21.93, 20.414, 22.28]\n",
    "officesss = [0.825, 0.847, 0.847, 0.844, 0.859, 0.849, 0.844, 0.862, 0.851, 0.861, 0.85, 0.855, 0.843, 0.874, 0.865, 0.886]"
   ]
  },
  {
   "cell_type": "code",
   "execution_count": 14,
   "id": "7a3b88e3-eb6d-44a9-9f46-c6f10c479f16",
   "metadata": {
    "tags": []
   },
   "outputs": [
    {
     "name": "stdout",
     "output_type": "stream",
     "text": [
      "Intel MKL WARNING: Support of Intel(R) Streaming SIMD Extensions 4.2 (Intel(R) SSE4.2) enabled only processors has been deprecated. Intel oneAPI Math Kernel Library 2025.0 will require Intel(R) Advanced Vector Extensions (Intel(R) AVX) instructions.\n"
     ]
    },
    {
     "data": {
      "text/plain": [
       "-0.08975755893823496"
      ]
     },
     "execution_count": 14,
     "metadata": {},
     "output_type": "execute_result"
    }
   ],
   "source": [
    "correlation_matrix = np.corrcoef(officells, officesss)\n",
    "correlation_matrix[0, 1]"
   ]
  }
 ],
 "metadata": {
  "kernelspec": {
   "display_name": "Python 3 (ipykernel)",
   "language": "python",
   "name": "python3"
  },
  "language_info": {
   "codemirror_mode": {
    "name": "ipython",
    "version": 3
   },
   "file_extension": ".py",
   "mimetype": "text/x-python",
   "name": "python",
   "nbconvert_exporter": "python",
   "pygments_lexer": "ipython3",
   "version": "3.10.11"
  }
 },
 "nbformat": 4,
 "nbformat_minor": 5
}
